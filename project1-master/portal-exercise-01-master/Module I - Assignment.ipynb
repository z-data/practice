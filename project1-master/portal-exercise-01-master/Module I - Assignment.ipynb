{
 "cells": [
  {
   "cell_type": "markdown",
   "metadata": {},
   "source": [
    "# Module I - Assignment\n",
    "\n",
    "You can complete this by yourself or with 1-2 other people. List all names at the top of the module when you submit."
   ]
  },
  {
   "cell_type": "markdown",
   "metadata": {},
   "source": [
    "## Problem 1a\n",
    "\n",
    "DrinkBetter is a company in New York that specializes in producing sustainable straws and cups. They supply directly to restaurants and would like to leverage the Yelp API to assist them in targetting NYC restaurants.\n",
    "\n",
    "Based off of their experience, they've found that the following characteristics make a restaurant more likely to become a customer:\n",
    "- Price is \\$\\$ or more\n",
    "- The restaurant is located in either Manhatttan or Brooklyn\n",
    "- Delivery is offered\n",
    "- They have at least 50 reviews\n",
    "\n",
    "Use the Yelp API to write a function that returns a list of restaurants that DrinkBetter should target\n",
    "- If you use the API key and Client ID within this notebook, then remove them before submitting"
   ]
  },
  {
   "cell_type": "code",
   "execution_count": null,
   "metadata": {
    "collapsed": true
   },
   "outputs": [],
   "source": [
    "# Code goes here"
   ]
  },
  {
   "cell_type": "markdown",
   "metadata": {},
   "source": [
    "## Problem 1b\n",
    "\n",
    "Write two more functions with the Yelp API that DrinkBetter might find useful.\n",
    "- Provide your reasoning for why these functions would be useful\n",
    "- Do not copy a function from the API - Case notebook"
   ]
  },
  {
   "cell_type": "code",
   "execution_count": null,
   "metadata": {
    "collapsed": true
   },
   "outputs": [],
   "source": [
    "# Code for Function 1 goes here"
   ]
  },
  {
   "cell_type": "markdown",
   "metadata": {},
   "source": [
    "Why Function 1 Would be Useful:"
   ]
  },
  {
   "cell_type": "code",
   "execution_count": null,
   "metadata": {
    "collapsed": true
   },
   "outputs": [],
   "source": [
    "# Code for Function 2 goes here"
   ]
  },
  {
   "cell_type": "markdown",
   "metadata": {},
   "source": [
    "Why Function 2 Would be Useful:"
   ]
  },
  {
   "cell_type": "markdown",
   "metadata": {},
   "source": [
    "## Problem 2a\n",
    "\n",
    "MuseX is a music publisher that tracks the royalties of thousands of songs around the world. Currently, they have no analyst on hand, but would like to hire one. Before hiring, they would like to know if and how their data could be used for data analysis, particularly for predicting whether or not a song brings in more than \\$10,000. MuseX has given you the file 2018MusicData.csv as a set of sample data. \n",
    "\n",
    "Assess the quality of the data and prepare it for analysis\n",
    "- Note all steps you took to prepare the data.\n",
    "- List questions that you have for MuseX regarding the data"
   ]
  },
  {
   "cell_type": "code",
   "execution_count": 15,
   "metadata": {
    "collapsed": true
   },
   "outputs": [],
   "source": [
    "import pandas as pd\n",
    "import numpy as np\n",
    "df = pd.read_csv('data/2018MusicData.csv')"
   ]
  },
  {
   "cell_type": "code",
   "execution_count": null,
   "metadata": {
    "collapsed": true
   },
   "outputs": [],
   "source": [
    "# Code goes here"
   ]
  },
  {
   "cell_type": "markdown",
   "metadata": {},
   "source": [
    "Steps Taken to Prepare Data:"
   ]
  },
  {
   "cell_type": "markdown",
   "metadata": {},
   "source": [
    "Questions for MuseX:"
   ]
  },
  {
   "cell_type": "markdown",
   "metadata": {},
   "source": [
    "## Problem 2b\n",
    "\n",
    "MuseX realized their data does not include information about artist, album, and playlist. They end up getting this information in another .csv called 2018SongInfo.csv which has four data fields:\n",
    "- song_name\n",
    "- artist_name\n",
    "- album_name\n",
    "- playlist\n",
    "\n",
    "They believe that there could be more instances where this occurs (i.e. there is additional data they want to add but did not have before).\n",
    "\n",
    "Consider a third dataset they might want to add and how they could retrieve. From there, provide a recommendation on whether or not to store their data in a SQL, noSQL, or File Systems database and describe your reasoning. For whiever recommendation you go with, describe the schema in the context of three datasets."
   ]
  },
  {
   "cell_type": "code",
   "execution_count": null,
   "metadata": {
    "collapsed": true
   },
   "outputs": [],
   "source": [
    "# Code goes here (if needed)"
   ]
  },
  {
   "cell_type": "markdown",
   "metadata": {},
   "source": [
    "Answer Goes Here:"
   ]
  }
 ],
 "metadata": {
  "kernelspec": {
   "display_name": "Python 3",
   "language": "python",
   "name": "python3"
  },
  "language_info": {
   "codemirror_mode": {
    "name": "ipython",
    "version": 3
   },
   "file_extension": ".py",
   "mimetype": "text/x-python",
   "name": "python",
   "nbconvert_exporter": "python",
   "pygments_lexer": "ipython3",
   "version": "3.6.3"
  }
 },
 "nbformat": 4,
 "nbformat_minor": 2
}
