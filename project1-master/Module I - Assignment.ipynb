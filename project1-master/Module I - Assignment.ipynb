{
 "cells": [
  {
   "cell_type": "markdown",
   "metadata": {},
   "source": [
    "# Module I - Assignment\n",
    "\n",
    "You can complete this by yourself or with 1-2 other people. List all names at the top of the module when you submit."
   ]
  },
  {
   "cell_type": "markdown",
   "metadata": {},
   "source": [
    "## Problem 1a\n",
    "\n",
    "DrinkBetter is a company in New York that specializes in producing sustainable straws and cups. They supply directly to restaurants and would like to leverage the Yelp API to assist them in targetting NYC restaurants.\n",
    "\n",
    "Based off of their experience, they've found that the following characteristics make a restaurant more likely to become a customer:\n",
    "- Price is \\$\\$ or more\n",
    "- The restaurant is located in either Manhatttan or Brooklyn\n",
    "- Delivery is offered\n",
    "- They have at least 50 reviews\n",
    "\n",
    "Use the Yelp API to write a function that returns a list of restaurants that DrinkBetter should target\n",
    "- If you use the API key and Client ID within this notebook, then remove them before submitting"
   ]
  },
  {
   "cell_type": "markdown",
   "metadata": {},
   "source": [
    "## Problem 1b\n",
    "\n",
    "Write two more functions with the Yelp API that DrinkBetter might find useful.\n",
    "- Provide your reasoning for why these functions would be useful\n",
    "- Do not copy a function from the API - Case notebook"
   ]
  },
  {
   "cell_type": "code",
   "execution_count": 1,
   "metadata": {},
   "outputs": [],
   "source": [
    "import numpy as np # data processing libraries\n",
    "import pandas as pd\n",
    "\n",
    "import matplotlib.pyplot as plt # data visualization librarY\n",
    "\n",
    "import requests # for grabbing web requests\n",
    "import json # common data typee goes here\n",
    "\n",
    "CLIENT_ID = \"\" \n",
    "API_KEY = \"\" \n",
    "\n",
    "API_HOST = 'https://api.yelp.com' #The API url header\n",
    "SEARCH_PATH = '/v3/businesses/search' #The path for an API request to find businesses\n",
    "BUSINESS_PATH = '/v3/businesses/'  # The path to get data for a single business\n",
    "\n",
    "def get_restaurants(api_key,location):\n",
    "    import requests\n",
    "    \n",
    "    #First we get the access token\n",
    "    #Set up the search data dictionary\n",
    "    search_data = {\n",
    "    'term': \"restaurant\",\n",
    "    'location': location.replace(' ', '+'),\n",
    "    }\n",
    "    url = API_HOST + SEARCH_PATH\n",
    "    headers = {\n",
    "        'Authorization': 'Bearer %s' % api_key,\n",
    "    }\n",
    "    response = requests.request('GET', url, headers=headers, params=search_data).json()\n",
    "    businesses = response.get('businesses')\n",
    "    return businesses\n",
    "\n",
    "def filter_restaurants(price, min_reviews, delivery, location, city):\n",
    "    restaurants = get_restaurants(API_KEY, location)\n",
    "    \n",
    "    acceptable_restaurants = {}\n",
    "\n",
    "    for r in restaurants:\n",
    "        \n",
    "        if 'review_count' in r.keys():\n",
    "            review = r['review_count']\n",
    "        else:\n",
    "            review = 0\n",
    "        if 'price' in r.keys():\n",
    "            cost = r['price']\n",
    "        else:\n",
    "            cost = \"\"\n",
    "        if 'delivery' in r['transactions']:\n",
    "            can_deliver = True\n",
    "        else:\n",
    "            can_deliver = False\n",
    "        if 'city' in r['location']:\n",
    "            city_specific = r['location']['city']\n",
    "        \n",
    "        \n",
    "        \n",
    "        if int(review) >= min_reviews and can_deliver == delivery and (len(cost) <= len(price)) and city_specific == city:\n",
    "            acceptable_restaurants[r['alias']] = r['name']\n",
    "    \n",
    "    return(acceptable_restaurants)"
   ]
  },
  {
   "cell_type": "code",
   "execution_count": 12,
   "metadata": {
    "scrolled": false
   },
   "outputs": [
    {
     "name": "stdout",
     "output_type": "stream",
     "text": [
      "{'joes-shanghai-new-york-2': \"Joe's Shanghai\", 'the-masalawala-new-york-2': 'The MasalaWala', 'jacobs-pickles-new-york': \"Jacob's Pickles\", 'lukes-lobster-fidi-new-york': \"Luke's Lobster FiDi\"}\n",
      "{'soco-brooklyn': 'Soco', 'peaches-hothouse-brooklyn': 'Peaches HotHouse', 'camillo-brooklyn': 'Camillo', 'la-ñapa-brooklyn-2': 'La Ñapa', 'suede-brooklyn': 'Suede', 'uglyduckling-brooklyn': 'Uglyduckling', 'red-hook-lobster-pound-brooklyn': 'Red Hook Lobster Pound', 'fan-fried-rice-bar-brooklyn-2': 'Fan Fried Rice Bar', 'biyou-brooklyn': 'Biyou'}\n"
     ]
    }
   ],
   "source": [
    "filtered_manhattan = filter_restaurants('$$', 50, True, \"New York, NY\", \"New York\")\n",
    "filtered_brooklyn = filter_restaurants('$$', 50, True, \"Brooklyn, NY\", \"Brooklyn\")\n",
    "print(filtered_manhattan)\n",
    "print(filtered_brooklyn)\n"
   ]
  },
  {
   "cell_type": "code",
   "execution_count": 13,
   "metadata": {},
   "outputs": [],
   "source": [
    "def get_rating_filtered(location, resturants_filter):\n",
    "    restaurants = get_restaurants(API_KEY,location)\n",
    "    \n",
    "    ratings = {}\n",
    "    li = []\n",
    "    for k in resturants_filter:\n",
    "        li.append(resturants_filter[k])\n",
    "        \n",
    "    for r in restaurants:\n",
    "        if r['name'] in li:\n",
    "            ratings[r['name']] = r['rating']\n",
    "    \n",
    "    return(ratings)"
   ]
  },
  {
   "cell_type": "code",
   "execution_count": 14,
   "metadata": {},
   "outputs": [
    {
     "name": "stdout",
     "output_type": "stream",
     "text": [
      "{\"Joe's Shanghai\": 4.0, 'The MasalaWala': 4.5, \"Jacob's Pickles\": 4.0, \"Luke's Lobster FiDi\": 4.5}\n",
      "{'Soco': 4.0, 'Peaches HotHouse': 4.0, 'Camillo': 4.0, 'La Ñapa': 4.5, 'Suede': 3.5, 'Uglyduckling': 4.0, 'Red Hook Lobster Pound': 4.0, 'Fan Fried Rice Bar': 4.5, 'Biyou': 4.0}\n"
     ]
    }
   ],
   "source": [
    "ratings_filtered_man = get_rating_filtered(\"New York, NY\" , filtered_manhattan)\n",
    "ratings_filtered_brook = get_rating_filtered(\"Brooklyn, NY\" , filtered_brooklyn)\n",
    "print(ratings_filtered_man)\n",
    "print(ratings_filtered_brook)"
   ]
  },
  {
   "cell_type": "markdown",
   "metadata": {},
   "source": [
    "It could be useful to see if there is some sort of cutoff for overall reviews too."
   ]
  },
  {
   "cell_type": "code",
   "execution_count": 21,
   "metadata": {},
   "outputs": [],
   "source": [
    "def get_number_of_reviews_filt(location, resturants_filter):\n",
    "    restaurants = get_restaurants(API_KEY,location)\n",
    "    \n",
    "    num_reviews = {}\n",
    "    li = []\n",
    "    for k in resturants_filter:\n",
    "        li.append(resturants_filter[k])\n",
    "    \n",
    "    for r in restaurants:\n",
    "        if r['name'] in li:\n",
    "            num_reviews[r['name']] = r['review_count']\n",
    "    \n",
    "    return(num_reviews)"
   ]
  },
  {
   "cell_type": "code",
   "execution_count": 22,
   "metadata": {},
   "outputs": [
    {
     "name": "stdout",
     "output_type": "stream",
     "text": [
      "{\"Joe's Shanghai\": 6158, 'The MasalaWala': 1478, \"Jacob's Pickles\": 4126, \"Luke's Lobster FiDi\": 1154}\n",
      "{'Soco': 2136, 'Peaches HotHouse': 1165, 'Camillo': 132, 'La Ñapa': 65, 'Suede': 1155, 'Uglyduckling': 476, 'Red Hook Lobster Pound': 1066, 'Fan Fried Rice Bar': 73, 'Biyou': 115}\n"
     ]
    }
   ],
   "source": [
    "rev_man = get_number_of_reviews_filt(\"New York, NY\" , filtered_manhattan)\n",
    "rev_brook = get_number_of_reviews_filt(\"Brooklyn, NY\" , filtered_brooklyn)\n",
    "print(rev_man)\n",
    "print(rev_brook)"
   ]
  },
  {
   "cell_type": "code",
   "execution_count": 31,
   "metadata": {},
   "outputs": [],
   "source": [
    "import matplotlib.pyplot as plt\n",
    "def plot_review_rating(location, resturants_filter):\n",
    "    reviews = get_number_of_reviews_filt(location, resturants_filter)\n",
    "    rating = get_rating_filtered(location, resturants_filter)\n",
    "    \n",
    "    reviews_list = []\n",
    "    rating_list = []\n",
    "    \n",
    "    for k in reviews:\n",
    "        reviews_list.append(float(reviews[k]))\n",
    "        \n",
    "    for k in rating:\n",
    "        rating_list.append(float(rating[k]))\n",
    "        \n",
    "    print(reviews_list)\n",
    "    print(rating_list)\n",
    "    y = reviews_list\n",
    "    x = rating_list\n",
    "    colors = (0,0,0)\n",
    "    area = np.pi*3\n",
    "\n",
    "    # Plot\n",
    "    plt.scatter(x, y, s=area, c=colors, alpha=0.5)\n",
    "    plt.title('Srating v reviews')\n",
    "    plt.xlabel('rating')\n",
    "    plt.ylabel('reviews')\n",
    "    plt.show()\n",
    "        \n",
    "    \n",
    "        \n",
    "    "
   ]
  },
  {
   "cell_type": "code",
   "execution_count": 32,
   "metadata": {},
   "outputs": [
    {
     "name": "stderr",
     "output_type": "stream",
     "text": [
      "'c' argument looks like a single numeric RGB or RGBA sequence, which should be avoided as value-mapping will have precedence in case its length matches with 'x' & 'y'.  Please use a 2-D array with a single row if you really want to specify the same RGB or RGBA value for all points.\n"
     ]
    },
    {
     "name": "stdout",
     "output_type": "stream",
     "text": [
      "[6158.0, 1478.0, 4126.0, 1154.0]\n",
      "[4.0, 4.5, 4.0, 4.5]\n"
     ]
    },
    {
     "data": {
      "image/png": "[encoded data removed]",
      "text/plain": [
       "<Figure size 432x288 with 1 Axes>"
      ]
     },
     "metadata": {
      "needs_background": "light"
     },
     "output_type": "display_data"
    },
    {
     "name": "stderr",
     "output_type": "stream",
     "text": [
      "'c' argument looks like a single numeric RGB or RGBA sequence, which should be avoided as value-mapping will have precedence in case its length matches with 'x' & 'y'.  Please use a 2-D array with a single row if you really want to specify the same RGB or RGBA value for all points.\n"
     ]
    },
    {
     "name": "stdout",
     "output_type": "stream",
     "text": [
      "[1165.0, 2136.0, 132.0, 65.0, 1155.0, 476.0, 1066.0, 73.0, 115.0]\n",
      "[4.0, 4.0, 4.0, 4.5, 3.5, 4.0, 4.0, 4.5, 4.0]\n"
     ]
    },
    {
     "data": {
      "image/png": "[encoded data removed]",
      "text/plain": [
       "<Figure size 432x288 with 1 Axes>"
      ]
     },
     "metadata": {
      "needs_background": "light"
     },
     "output_type": "display_data"
    }
   ],
   "source": [
    "plot_man = plot_review_rating(\"New York, NY\" , filtered_manhattan)\n",
    "plot_brook = plot_review_rating(\"Brooklyn, NY\" , filtered_brooklyn)"
   ]
  },
  {
   "cell_type": "markdown",
   "metadata": {},
   "source": [
    "function 2 could be useful to see how ratings and reviews among the qualified resturants interact.  If they are making straws maybe the are looking for companies with lots of reviews and a certain threshold of a rating.  To help spread the word via word of mouth."
   ]
  },
  {
   "cell_type": "markdown",
   "metadata": {},
   "source": [
    "## Problem 2a\n",
    "\n",
    "MuseX is a music publisher that tracks the royalties of thousands of songs around the world. Currently, they have no analyst on hand, but would like to hire one. Before hiring, they would like to know if and how their data could be used for data analysis, particularly for predicting whether or not a song brings in more than \\$10,000. MuseX has given you the file 2018MusicData.csv as a set of sample data. \n",
    "\n",
    "Assess the quality of the data and prepare it for analysis\n",
    "- Note all steps you took to prepare the data.\n",
    "- List questions that you have for MuseX regarding the data"
   ]
  },
  {
   "cell_type": "code",
   "execution_count": 37,
   "metadata": {},
   "outputs": [],
   "source": [
    "import pandas as pd\n",
    "import numpy as np\n",
    "df = pd.read_csv('2018MusicData.csv')"
   ]
  },
  {
   "cell_type": "code",
   "execution_count": 38,
   "metadata": {},
   "outputs": [
    {
     "data": {
      "text/plain": [
       "(18992, 17)"
      ]
     },
     "execution_count": 38,
     "metadata": {},
     "output_type": "execute_result"
    }
   ],
   "source": [
    "df.shape"
   ]
  },
  {
   "cell_type": "code",
   "execution_count": 42,
   "metadata": {},
   "outputs": [
    {
     "data": {
      "text/html": [
       "<div>\n",
       "<style scoped>\n",
       "    .dataframe tbody tr th:only-of-type {\n",
       "        vertical-align: middle;\n",
       "    }\n",
       "\n",
       "    .dataframe tbody tr th {\n",
       "        vertical-align: top;\n",
       "    }\n",
       "\n",
       "    .dataframe thead th {\n",
       "        text-align: right;\n",
       "    }\n",
       "</style>\n",
       "<table border=\"1\" class=\"dataframe\">\n",
       "  <thead>\n",
       "    <tr style=\"text-align: right;\">\n",
       "      <th></th>\n",
       "      <th>Unnamed: 0</th>\n",
       "      <th>song_name</th>\n",
       "      <th>song_popularity</th>\n",
       "      <th>song_duration_ms</th>\n",
       "      <th>acousticness</th>\n",
       "      <th>danceability</th>\n",
       "      <th>energy</th>\n",
       "      <th>instrumentalness</th>\n",
       "      <th>key</th>\n",
       "      <th>liveness</th>\n",
       "      <th>loudness</th>\n",
       "      <th>audio_mode</th>\n",
       "      <th>speechiness</th>\n",
       "      <th>tempo</th>\n",
       "      <th>time_signature</th>\n",
       "      <th>audio_valence</th>\n",
       "      <th>revenue</th>\n",
       "    </tr>\n",
       "  </thead>\n",
       "  <tbody>\n",
       "    <tr>\n",
       "      <th>0</th>\n",
       "      <td>0</td>\n",
       "      <td>The Devil's Bleeding Crown</td>\n",
       "      <td>14.0</td>\n",
       "      <td>238653.0</td>\n",
       "      <td>0.000018</td>\n",
       "      <td>0.550</td>\n",
       "      <td>0.917</td>\n",
       "      <td>0.214000</td>\n",
       "      <td>7.0</td>\n",
       "      <td>0.0333</td>\n",
       "      <td>-4.575</td>\n",
       "      <td>1.0</td>\n",
       "      <td>0.0378</td>\n",
       "      <td>109.552</td>\n",
       "      <td>3.0</td>\n",
       "      <td>0.245</td>\n",
       "      <td>4038.0</td>\n",
       "    </tr>\n",
       "    <tr>\n",
       "      <th>1</th>\n",
       "      <td>1</td>\n",
       "      <td>BlowinUpTheSpot</td>\n",
       "      <td>24.0</td>\n",
       "      <td>122000.0</td>\n",
       "      <td>0.000807</td>\n",
       "      <td>0.662</td>\n",
       "      <td>0.725</td>\n",
       "      <td>0.899000</td>\n",
       "      <td>9.0</td>\n",
       "      <td>0.1700</td>\n",
       "      <td>-6.080</td>\n",
       "      <td>0.0</td>\n",
       "      <td>0.0801</td>\n",
       "      <td>96.106</td>\n",
       "      <td>4.0</td>\n",
       "      <td>0.419</td>\n",
       "      <td>15505.0</td>\n",
       "    </tr>\n",
       "    <tr>\n",
       "      <th>2</th>\n",
       "      <td>2</td>\n",
       "      <td>I Can't Help Myself (Sugar Pie, Honey Bunch)</td>\n",
       "      <td>57.0</td>\n",
       "      <td>166466.0</td>\n",
       "      <td>0.197000</td>\n",
       "      <td>0.692</td>\n",
       "      <td>0.633</td>\n",
       "      <td>0.000000</td>\n",
       "      <td>0.0</td>\n",
       "      <td>0.0929</td>\n",
       "      <td>-7.733</td>\n",
       "      <td>1.0</td>\n",
       "      <td>0.0291</td>\n",
       "      <td>126.812</td>\n",
       "      <td>4.0</td>\n",
       "      <td>0.965</td>\n",
       "      <td>4632.0</td>\n",
       "    </tr>\n",
       "    <tr>\n",
       "      <th>3</th>\n",
       "      <td>3</td>\n",
       "      <td>Mambo Gozon</td>\n",
       "      <td>40.0</td>\n",
       "      <td>168986.0</td>\n",
       "      <td>0.056200</td>\n",
       "      <td>0.711</td>\n",
       "      <td>0.430</td>\n",
       "      <td>0.883000</td>\n",
       "      <td>4.0</td>\n",
       "      <td>0.2580</td>\n",
       "      <td>-15.717</td>\n",
       "      <td>0.0</td>\n",
       "      <td>0.0816</td>\n",
       "      <td>104.986</td>\n",
       "      <td>4.0</td>\n",
       "      <td>0.602</td>\n",
       "      <td>8103.0</td>\n",
       "    </tr>\n",
       "    <tr>\n",
       "      <th>4</th>\n",
       "      <td>4</td>\n",
       "      <td>Unfinished Business</td>\n",
       "      <td>45.0</td>\n",
       "      <td>215405.0</td>\n",
       "      <td>0.527000</td>\n",
       "      <td>0.607</td>\n",
       "      <td>0.581</td>\n",
       "      <td>0.000107</td>\n",
       "      <td>0.0</td>\n",
       "      <td>0.0980</td>\n",
       "      <td>-6.157</td>\n",
       "      <td>0.0</td>\n",
       "      <td>0.1350</td>\n",
       "      <td>179.823</td>\n",
       "      <td>4.0</td>\n",
       "      <td>0.668</td>\n",
       "      <td>2920.0</td>\n",
       "    </tr>\n",
       "  </tbody>\n",
       "</table>\n",
       "</div>"
      ],
      "text/plain": [
       "   Unnamed: 0                                     song_name  song_popularity  \\\n",
       "0           0                    The Devil's Bleeding Crown             14.0   \n",
       "1           1                               BlowinUpTheSpot             24.0   \n",
       "2           2  I Can't Help Myself (Sugar Pie, Honey Bunch)             57.0   \n",
       "3           3                                   Mambo Gozon             40.0   \n",
       "4           4                           Unfinished Business             45.0   \n",
       "\n",
       "   song_duration_ms  acousticness  danceability  energy  instrumentalness  \\\n",
       "0          238653.0      0.000018         0.550   0.917          0.214000   \n",
       "1          122000.0      0.000807         0.662   0.725          0.899000   \n",
       "2          166466.0      0.197000         0.692   0.633          0.000000   \n",
       "3          168986.0      0.056200         0.711   0.430          0.883000   \n",
       "4          215405.0      0.527000         0.607   0.581          0.000107   \n",
       "\n",
       "   key  liveness  loudness  audio_mode  speechiness    tempo  time_signature  \\\n",
       "0  7.0    0.0333    -4.575         1.0       0.0378  109.552             3.0   \n",
       "1  9.0    0.1700    -6.080         0.0       0.0801   96.106             4.0   \n",
       "2  0.0    0.0929    -7.733         1.0       0.0291  126.812             4.0   \n",
       "3  4.0    0.2580   -15.717         0.0       0.0816  104.986             4.0   \n",
       "4  0.0    0.0980    -6.157         0.0       0.1350  179.823             4.0   \n",
       "\n",
       "   audio_valence  revenue  \n",
       "0          0.245   4038.0  \n",
       "1          0.419  15505.0  \n",
       "2          0.965   4632.0  \n",
       "3          0.602   8103.0  \n",
       "4          0.668   2920.0  "
      ]
     },
     "execution_count": 42,
     "metadata": {},
     "output_type": "execute_result"
    }
   ],
   "source": [
    "df.head()"
   ]
  },
  {
   "cell_type": "code",
   "execution_count": 41,
   "metadata": {},
   "outputs": [
    {
     "data": {
      "text/html": [
       "<div>\n",
       "<style scoped>\n",
       "    .dataframe tbody tr th:only-of-type {\n",
       "        vertical-align: middle;\n",
       "    }\n",
       "\n",
       "    .dataframe tbody tr th {\n",
       "        vertical-align: top;\n",
       "    }\n",
       "\n",
       "    .dataframe thead th {\n",
       "        text-align: right;\n",
       "    }\n",
       "</style>\n",
       "<table border=\"1\" class=\"dataframe\">\n",
       "  <thead>\n",
       "    <tr style=\"text-align: right;\">\n",
       "      <th></th>\n",
       "      <th>Unnamed: 0</th>\n",
       "      <th>song_popularity</th>\n",
       "      <th>song_duration_ms</th>\n",
       "      <th>acousticness</th>\n",
       "      <th>danceability</th>\n",
       "      <th>energy</th>\n",
       "      <th>instrumentalness</th>\n",
       "      <th>key</th>\n",
       "      <th>liveness</th>\n",
       "      <th>loudness</th>\n",
       "      <th>audio_mode</th>\n",
       "      <th>speechiness</th>\n",
       "      <th>tempo</th>\n",
       "      <th>time_signature</th>\n",
       "      <th>audio_valence</th>\n",
       "      <th>revenue</th>\n",
       "    </tr>\n",
       "  </thead>\n",
       "  <tbody>\n",
       "    <tr>\n",
       "      <th>count</th>\n",
       "      <td>18992.000000</td>\n",
       "      <td>18978.000000</td>\n",
       "      <td>1.897800e+04</td>\n",
       "      <td>18978.000000</td>\n",
       "      <td>18978.000000</td>\n",
       "      <td>18973.000000</td>\n",
       "      <td>18973.000000</td>\n",
       "      <td>18973.000000</td>\n",
       "      <td>18973.000000</td>\n",
       "      <td>18973.000000</td>\n",
       "      <td>18973.000000</td>\n",
       "      <td>18973.000000</td>\n",
       "      <td>18978.000000</td>\n",
       "      <td>18978.000000</td>\n",
       "      <td>18978.000000</td>\n",
       "      <td>18978.000000</td>\n",
       "    </tr>\n",
       "    <tr>\n",
       "      <th>mean</th>\n",
       "      <td>9495.500000</td>\n",
       "      <td>52.967067</td>\n",
       "      <td>2.181796e+05</td>\n",
       "      <td>0.258499</td>\n",
       "      <td>0.633383</td>\n",
       "      <td>0.644746</td>\n",
       "      <td>0.077945</td>\n",
       "      <td>5.285406</td>\n",
       "      <td>0.179717</td>\n",
       "      <td>-7.448687</td>\n",
       "      <td>0.628209</td>\n",
       "      <td>0.102137</td>\n",
       "      <td>121.062836</td>\n",
       "      <td>3.959216</td>\n",
       "      <td>0.528025</td>\n",
       "      <td>18509.842186</td>\n",
       "    </tr>\n",
       "    <tr>\n",
       "      <th>std</th>\n",
       "      <td>5482.662492</td>\n",
       "      <td>21.919079</td>\n",
       "      <td>5.981300e+04</td>\n",
       "      <td>0.288722</td>\n",
       "      <td>0.156842</td>\n",
       "      <td>0.214052</td>\n",
       "      <td>0.221545</td>\n",
       "      <td>3.615111</td>\n",
       "      <td>0.144061</td>\n",
       "      <td>3.828909</td>\n",
       "      <td>0.483296</td>\n",
       "      <td>0.104452</td>\n",
       "      <td>28.741367</td>\n",
       "      <td>0.298636</td>\n",
       "      <td>0.244634</td>\n",
       "      <td>25091.714942</td>\n",
       "    </tr>\n",
       "    <tr>\n",
       "      <th>min</th>\n",
       "      <td>0.000000</td>\n",
       "      <td>0.000000</td>\n",
       "      <td>1.200000e+04</td>\n",
       "      <td>0.000001</td>\n",
       "      <td>0.000000</td>\n",
       "      <td>0.001070</td>\n",
       "      <td>0.000000</td>\n",
       "      <td>0.000000</td>\n",
       "      <td>0.010900</td>\n",
       "      <td>-38.768000</td>\n",
       "      <td>0.000000</td>\n",
       "      <td>0.000000</td>\n",
       "      <td>0.000000</td>\n",
       "      <td>0.000000</td>\n",
       "      <td>0.000000</td>\n",
       "      <td>2000.000000</td>\n",
       "    </tr>\n",
       "    <tr>\n",
       "      <th>25%</th>\n",
       "      <td>4747.750000</td>\n",
       "      <td>40.000000</td>\n",
       "      <td>1.844312e+05</td>\n",
       "      <td>0.024100</td>\n",
       "      <td>0.533000</td>\n",
       "      <td>0.509000</td>\n",
       "      <td>0.000000</td>\n",
       "      <td>2.000000</td>\n",
       "      <td>0.092900</td>\n",
       "      <td>-9.046000</td>\n",
       "      <td>0.000000</td>\n",
       "      <td>0.037800</td>\n",
       "      <td>98.286250</td>\n",
       "      <td>4.000000</td>\n",
       "      <td>0.335000</td>\n",
       "      <td>4696.000000</td>\n",
       "    </tr>\n",
       "    <tr>\n",
       "      <th>50%</th>\n",
       "      <td>9495.500000</td>\n",
       "      <td>55.000000</td>\n",
       "      <td>2.112400e+05</td>\n",
       "      <td>0.133000</td>\n",
       "      <td>0.645000</td>\n",
       "      <td>0.674000</td>\n",
       "      <td>0.000011</td>\n",
       "      <td>5.000000</td>\n",
       "      <td>0.122000</td>\n",
       "      <td>-6.555000</td>\n",
       "      <td>1.000000</td>\n",
       "      <td>0.055500</td>\n",
       "      <td>120.013000</td>\n",
       "      <td>4.000000</td>\n",
       "      <td>0.527000</td>\n",
       "      <td>7400.000000</td>\n",
       "    </tr>\n",
       "    <tr>\n",
       "      <th>75%</th>\n",
       "      <td>14243.250000</td>\n",
       "      <td>69.000000</td>\n",
       "      <td>2.427028e+05</td>\n",
       "      <td>0.423750</td>\n",
       "      <td>0.748000</td>\n",
       "      <td>0.814000</td>\n",
       "      <td>0.002570</td>\n",
       "      <td>8.000000</td>\n",
       "      <td>0.222000</td>\n",
       "      <td>-4.909000</td>\n",
       "      <td>1.000000</td>\n",
       "      <td>0.119000</td>\n",
       "      <td>139.932750</td>\n",
       "      <td>4.000000</td>\n",
       "      <td>0.725000</td>\n",
       "      <td>12385.000000</td>\n",
       "    </tr>\n",
       "    <tr>\n",
       "      <th>max</th>\n",
       "      <td>18991.000000</td>\n",
       "      <td>100.000000</td>\n",
       "      <td>1.799346e+06</td>\n",
       "      <td>0.996000</td>\n",
       "      <td>0.987000</td>\n",
       "      <td>0.999000</td>\n",
       "      <td>0.997000</td>\n",
       "      <td>11.000000</td>\n",
       "      <td>0.986000</td>\n",
       "      <td>1.585000</td>\n",
       "      <td>1.000000</td>\n",
       "      <td>0.941000</td>\n",
       "      <td>242.318000</td>\n",
       "      <td>5.000000</td>\n",
       "      <td>0.984000</td>\n",
       "      <td>99994.000000</td>\n",
       "    </tr>\n",
       "  </tbody>\n",
       "</table>\n",
       "</div>"
      ],
      "text/plain": [
       "         Unnamed: 0  song_popularity  song_duration_ms  acousticness  \\\n",
       "count  18992.000000     18978.000000      1.897800e+04  18978.000000   \n",
       "mean    9495.500000        52.967067      2.181796e+05      0.258499   \n",
       "std     5482.662492        21.919079      5.981300e+04      0.288722   \n",
       "min        0.000000         0.000000      1.200000e+04      0.000001   \n",
       "25%     4747.750000        40.000000      1.844312e+05      0.024100   \n",
       "50%     9495.500000        55.000000      2.112400e+05      0.133000   \n",
       "75%    14243.250000        69.000000      2.427028e+05      0.423750   \n",
       "max    18991.000000       100.000000      1.799346e+06      0.996000   \n",
       "\n",
       "       danceability        energy  instrumentalness           key  \\\n",
       "count  18978.000000  18973.000000      18973.000000  18973.000000   \n",
       "mean       0.633383      0.644746          0.077945      5.285406   \n",
       "std        0.156842      0.214052          0.221545      3.615111   \n",
       "min        0.000000      0.001070          0.000000      0.000000   \n",
       "25%        0.533000      0.509000          0.000000      2.000000   \n",
       "50%        0.645000      0.674000          0.000011      5.000000   \n",
       "75%        0.748000      0.814000          0.002570      8.000000   \n",
       "max        0.987000      0.999000          0.997000     11.000000   \n",
       "\n",
       "           liveness      loudness    audio_mode   speechiness         tempo  \\\n",
       "count  18973.000000  18973.000000  18973.000000  18973.000000  18978.000000   \n",
       "mean       0.179717     -7.448687      0.628209      0.102137    121.062836   \n",
       "std        0.144061      3.828909      0.483296      0.104452     28.741367   \n",
       "min        0.010900    -38.768000      0.000000      0.000000      0.000000   \n",
       "25%        0.092900     -9.046000      0.000000      0.037800     98.286250   \n",
       "50%        0.122000     -6.555000      1.000000      0.055500    120.013000   \n",
       "75%        0.222000     -4.909000      1.000000      0.119000    139.932750   \n",
       "max        0.986000      1.585000      1.000000      0.941000    242.318000   \n",
       "\n",
       "       time_signature  audio_valence       revenue  \n",
       "count    18978.000000   18978.000000  18978.000000  \n",
       "mean         3.959216       0.528025  18509.842186  \n",
       "std          0.298636       0.244634  25091.714942  \n",
       "min          0.000000       0.000000   2000.000000  \n",
       "25%          4.000000       0.335000   4696.000000  \n",
       "50%          4.000000       0.527000   7400.000000  \n",
       "75%          4.000000       0.725000  12385.000000  \n",
       "max          5.000000       0.984000  99994.000000  "
      ]
     },
     "execution_count": 41,
     "metadata": {},
     "output_type": "execute_result"
    }
   ],
   "source": [
    "df.describe()"
   ]
  },
  {
   "cell_type": "code",
   "execution_count": 47,
   "metadata": {},
   "outputs": [
    {
     "data": {
      "text/plain": [
       "[<matplotlib.lines.Line2D at 0x7fb515b71fd0>]"
      ]
     },
     "execution_count": 47,
     "metadata": {},
     "output_type": "execute_result"
    },
    {
     "data": {
      "image/png": "[encoded data removed]",
      "text/plain": [
       "<Figure size 1080x360 with 1 Axes>"
      ]
     },
     "metadata": {
      "needs_background": "light"
     },
     "output_type": "display_data"
    }
   ],
   "source": [
    "plt.figure(figsize=(15,5))\n",
    "plt.title('danceability')\n",
    "plt.plot(df[\"danceability\"])"
   ]
  },
  {
   "cell_type": "code",
   "execution_count": 45,
   "metadata": {},
   "outputs": [
    {
     "data": {
      "text/plain": [
       "5927"
      ]
     },
     "execution_count": 45,
     "metadata": {},
     "output_type": "execute_result"
    }
   ],
   "source": [
    "len(df[df.duplicated(['song_name'])])"
   ]
  },
  {
   "cell_type": "markdown",
   "metadata": {},
   "source": [
    "Steps Taken to Prepare Data:"
   ]
  },
  {
   "cell_type": "markdown",
   "metadata": {},
   "source": [
    "Questions for MuseX:\n",
    "I want to know how are things like danceability, energy and liveability judged.  IT could very much affect overall money if it is people within the app?\n",
    "\n",
    "Is revenue measured in dollars?\n",
    "\n",
    "Also there are a lot of duplicate song names, but without albums and artists it is impossible to tell if they are duplicates or songs with the same name"
   ]
  },
  {
   "cell_type": "markdown",
   "metadata": {},
   "source": [
    "## Problem 2b\n",
    "\n",
    "MuseX realized their data does not include information about artist, album, and playlist. They end up getting this information in another .csv called 2018SongInfo.csv which has four data fields:\n",
    "- song_name\n",
    "- artist_name\n",
    "- album_name\n",
    "- playlist\n",
    "\n",
    "They believe that there could be more instances where this occurs (i.e. there is additional data they want to add but did not have before).\n",
    "\n",
    "Consider a third dataset they might want to add and how they could retrieve. From there, provide a recommendation on whether or not to store their data in a SQL, noSQL, or File Systems database and describe your reasoning. For whiever recommendation you go with, describe the schema in the context of three datasets."
   ]
  },
  {
   "cell_type": "code",
   "execution_count": null,
   "metadata": {
    "collapsed": true
   },
   "outputs": [],
   "source": [
    "# Code goes here (if needed)"
   ]
  },
  {
   "cell_type": "markdown",
   "metadata": {},
   "source": [
    "Answer Goes Here: \n",
    "I think that they should go with SQL because there is so much data and the relational tables make most sense.  It would be easy to set up keys within these tables since artists and song titles would be unique.  \n",
    "\n",
    "Table one would be as such due to the quantity of information and quick access to many variables that are likely to influence amount of money made, such as danceability and popularity\n",
    "\n",
    "from there table 2 would be linked be song_name which would be the identifier/link it would include \n",
    "song_name\n",
    "artist_name\n",
    "album_name\n",
    "playlist\n",
    "\n",
    "The third table can be filled in as needed in the SQL format "
   ]
  }
 ],
 "metadata": {
  "kernelspec": {
   "display_name": "Python 3",
   "language": "python",
   "name": "python3"
  },
  "language_info": {
   "codemirror_mode": {
    "name": "ipython",
    "version": 3
   },
   "file_extension": ".py",
   "mimetype": "text/x-python",
   "name": "python",
   "nbconvert_exporter": "python",
   "pygments_lexer": "ipython3",
   "version": "3.7.6"
  }
 },
 "nbformat": 4,
 "nbformat_minor": 2
}
