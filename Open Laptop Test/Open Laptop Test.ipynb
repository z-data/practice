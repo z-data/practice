{
 "cells": [
  {
   "cell_type": "code",
   "execution_count": 1,
   "metadata": {
    "collapsed": true
   },
   "outputs": [],
   "source": [
    "from IPython.display import Image"
   ]
  },
  {
   "cell_type": "markdown",
   "metadata": {},
   "source": [
    "# LionBase Open Laptop Test\n",
    "\n",
    "Welcome to the LionBase Open Laptop Test! You will have 8 hours to complete this test. Once submitted, the Exec Team will schedule a time for you to present your deliverable. \n",
    "\n",
    "This test is open-ended, however we want you to approach this as though you are doing this for a real client. If your work and presentation is exemplary, you will have the opportunity to interview for a spot in the LionBase Freelancer Network.\n",
    "\n",
    "You may ask questions for clarification, however you cannot ask for a video call or for help on the code. Otherwise, the test is completely open! You are encouraged to use all the resources you have available to you -- the LionBase Education Modules, Google, etc.\n",
    "\n",
    "## Problem\n",
    "\n",
    "MedX has developed a new drug that can help treat cancer. However, they can only produce the drug at a limited rate. They would like you to develop a <span style=\"color:red\">**linear regression model**</span> that can predict the death rate from cancer in a given U.S. county to help them prioritize distribution. The people you are interfacing with are not technical.\n",
    "\n",
    "## The Data\n",
    "\n",
    "MedX has provided you a dataset called ```cancer_data.csv``` which contains data from cancer.gov, clinicaltrials.gov, and the American Community Survey.\n",
    "\n",
    "Each row represents a different county in the United States.\n",
    "\n",
    "### Data Dictionary\n",
    "- **TARGET_deathRate:** Dependent variable. Mean per capita (100,000) cancer mortalities(a)\n",
    "- **avgAnnCount:** Mean number of reported cases of cancer diagnosed annually(a)\n",
    "- **avgDeathsPerYear:** Mean number of reported mortalities due to cancer(a)\n",
    "- **incidenceRate:** Mean per capita (100,000) cancer diagoses(a)\n",
    "- **medianIncome:** Median income per county (b)\n",
    "- **popEst2015:** Population of county (b)\n",
    "- **povertyPercent:** Percent of populace in poverty (b)\n",
    "- **studyPerCap:** Per capita number of cancer-related clinical trials per county (a)\n",
    "- **binnedInc:** Median income per capita binned by decile (b)\n",
    "- **MedianAge:** Median age of county residents (b)\n",
    "- **MedianAgeMale:** Median age of male county residents (b)\n",
    "- **MedianAgeFemale:** Median age of female county residents (b)\n",
    "- **Geography:** County name (b)\n",
    "- **AvgHouseholdSize:** Mean household size of county (b)\n",
    "- **PercentMarried:** Percent of county residents who are married (b)\n",
    "- **PctNoHS18_24:** Percent of county residents ages 18-24 highest education attained: less than high school (b)\n",
    "- **PctHS18_24:** Percent of county residents ages 18-24 highest education attained: high school diploma (b)\n",
    "- **PctSomeCol18_24:** Percent of county residents ages 18-24 highest education attained: some college (b)\n",
    "- **PctBachDeg18_24:** Percent of county residents ages 18-24 highest education attained: bachelor's degree (b)\n",
    "- **PctHS25_Over:** Percent of county residents ages 25 and over highest education attained: high school diploma (b)\n",
    "- **PctBachDeg25_Over:** Percent of county residents ages 25 and over highest education attained: bachelor's degree (b)\n",
    "- **PctEmployed16_Over:** Percent of county residents ages 16 and over employed (b)\n",
    "- **PctUnemployed16_Over:** Percent of county residents ages 16 and over unemployed (b)\n",
    "- **PctPrivateCoverage:** Percent of county residents with private health coverage (b)\n",
    "- **PctPrivateCoverageAlone:** Percent of county residents with private health coverage alone (no public assistance) (b)\n",
    "- **PctEmpPrivCoverage:** Percent of county residents with employee-provided private health coverage (b)\n",
    "- **PctPublicCoverage:** Percent of county residents with government-provided health coverage (b)\n",
    "- **PctPubliceCoverageAlone:** Percent of county residents with government-provided health coverage alone (b)\n",
    "- **PctWhite:** Percent of county residents who identify as White (b)\n",
    "- **PctBlack:** Percent of county residents who identify as Black (b)\n",
    "- **PctAsian:** Percent of county residents who identify as Asian (b)\n",
    "- **PctOtherRace:** Percent of county residents who identify in a category which is not White, Black, or Asian (b)\n",
    "- **PctMarriedHouseholds:** Percent of married households (b)\n",
    "- **BirthRate:** Number of live births relative to number of women in county (b)\n",
    "\n",
    "(a): years 2010-2016\n",
    "\n",
    "(b): 2013 Census Estimates\n",
    "\n",
    "## Submission\n",
    "For this test, you must submit:\n",
    "- Your code (as a .ipynb)\n",
    "- A report describing your model, visualizations, insights, and recommendations (as a .pdf)\n",
    "\n",
    "Email your submission to certificate@lionbase.nyc."
   ]
  },
  {
   "cell_type": "code",
   "execution_count": null,
   "metadata": {
    "collapsed": true
   },
   "outputs": [],
   "source": [
    "# Your work goes here"
   ]
  }
 ],
 "metadata": {
  "kernelspec": {
   "display_name": "Python 3",
   "language": "python",
   "name": "python3"
  },
  "language_info": {
   "codemirror_mode": {
    "name": "ipython",
    "version": 3
   },
   "file_extension": ".py",
   "mimetype": "text/x-python",
   "name": "python",
   "nbconvert_exporter": "python",
   "pygments_lexer": "ipython3",
   "version": "3.6.3"
  }
 },
 "nbformat": 4,
 "nbformat_minor": 2
}
